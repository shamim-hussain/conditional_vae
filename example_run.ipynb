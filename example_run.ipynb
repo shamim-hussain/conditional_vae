{
 "metadata": {
  "language_info": {
   "codemirror_mode": {
    "name": "ipython",
    "version": 3
   },
   "file_extension": ".py",
   "mimetype": "text/x-python",
   "name": "python",
   "nbconvert_exporter": "python",
   "pygments_lexer": "ipython3",
   "version": "3.7.7-final"
  },
  "orig_nbformat": 2,
  "kernelspec": {
   "name": "python3",
   "display_name": "Python 3"
  }
 },
 "nbformat": 4,
 "nbformat_minor": 2,
 "cells": [
  {
   "cell_type": "code",
   "execution_count": 1,
   "metadata": {},
   "outputs": [
    {
     "output_type": "stream",
     "name": "stdout",
     "text": [
      "usage: cvae.py [-h] [-lat_dim LAT_DIM] [-batch_size BATCH_SIZE]\n               [-learning_rate LEARNING_RATE] [-num_epochs NUM_EPOCHS]\n               [-dim_big DIM_BIG] [-dim_small DIM_SMALL]\n\noptional arguments:\n  -h, --help            show this help message and exit\n  -lat_dim LAT_DIM\n  -batch_size BATCH_SIZE\n  -learning_rate LEARNING_RATE\n  -num_epochs NUM_EPOCHS\n  -dim_big DIM_BIG\n  -dim_small DIM_SMALL\n"
     ]
    }
   ],
   "source": [
    "%run -i cvae.py -h"
   ]
  },
  {
   "cell_type": "code",
   "execution_count": 3,
   "metadata": {},
   "outputs": [
    {
     "output_type": "stream",
     "name": "stdout",
     "text": [
      "Model: \"model\"\n",
      "__________________________________________________________________________________________________\n",
      "Layer (type)                    Output Shape         Param #     Connected to                     \n",
      "==================================================================================================\n",
      "input_1 (InputLayer)            [(None, 28, 28)]     0                                            \n",
      "__________________________________________________________________________________________________\n",
      "input_2 (InputLayer)            [(None,)]            0                                            \n",
      "__________________________________________________________________________________________________\n",
      "encoder (Encoder)               ((None, 4), (None, 4 473736      input_1[0][0]                    \n",
      "                                                                 input_2[0][0]                    \n",
      "__________________________________________________________________________________________________\n",
      "sampling (Sampling)             (None, 4)            0           encoder[0][0]                    \n",
      "                                                                 encoder[0][1]                    \n",
      "__________________________________________________________________________________________________\n",
      "prior (Prior)                   ((None, 4), (None, 4 80          input_2[0][0]                    \n",
      "__________________________________________________________________________________________________\n",
      "conditional_sampling_loss (Cond [(None, 4), (None, 4 0           sampling[0][0]                   \n",
      "                                                                 encoder[0][0]                    \n",
      "                                                                 encoder[0][1]                    \n",
      "                                                                 prior[0][0]                      \n",
      "                                                                 prior[0][1]                      \n",
      "__________________________________________________________________________________________________\n",
      "decoder (Decoder)               (None, 28, 28)       470160      conditional_sampling_loss[0][0]  \n",
      "                                                                 input_2[0][0]                    \n",
      "__________________________________________________________________________________________________\n",
      "xe_loss (XELoss)                (None, 28, 28)       0           input_1[0][0]                    \n",
      "                                                                 decoder[0][0]                    \n",
      "==================================================================================================\n",
      "Total params: 943,976\n",
      "Trainable params: 943,976\n",
      "Non-trainable params: 0\n",
      "__________________________________________________________________________________________________\n",
      "WARNING:tensorflow:Output xe_loss missing from loss dictionary. We assume this was done on purpose. The fit and evaluate APIs will not be expecting any data to be passed to xe_loss.\n",
      "Train on 60000 samples, validate on 10000 samples\n",
      "Epoch 1/1000\n",
      "  256/60000 [..............................] - ETA: 6:21"
     ]
    }
   ],
   "source": [
    "%run -i cvae.py -lat_dim 4 -batch_size 256 \\\n",
    "               -learning_rate 2.5e-4  -num_epochs 1000 \\\n",
    "               -dim_big 512 -dim_small 128"
   ]
  },
  {
   "cell_type": "code",
   "execution_count": null,
   "metadata": {},
   "outputs": [],
   "source": []
  }
 ]
}